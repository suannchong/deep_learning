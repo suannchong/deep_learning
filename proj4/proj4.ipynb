{
 "cells": [
  {
   "cell_type": "code",
   "execution_count": 2,
   "metadata": {},
   "outputs": [],
   "source": [
    "import numpy as np\n",
    "import pandas as pd\n",
    "import matplotlib.pyplot as plt\n",
    "import seaborn as sns; sns.set()\n",
    "\n",
    "from tensorflow.keras.models import Sequential\n",
    "from tensorflow.keras.layers import Dense, Input\n",
    "from tensorflow.keras.layers import LSTM, SimpleRNN\n",
    "from tensorflow.keras.layers import Lambda, Softmax "
   ]
  },
  {
   "cell_type": "code",
   "execution_count": null,
   "metadata": {},
   "outputs": [],
   "source": [
    "# Task 1: \n",
    "# write a method which given a textfile name, a window size and \n",
    "# a stride it creates the training data to perform backpropagation\n",
    "\n",
    "def parseFile(filename, window_size, stride):\n",
    "    \n"
   ]
  },
  {
   "cell_type": "code",
   "execution_count": null,
   "metadata": {},
   "outputs": [],
   "source": [
    "# Task 2:\n",
    "# write a method which given a filename (each line is a single\n",
    "# training sequence), returns the input and output array for \n",
    "# training. Input x is mxnxp and output y is mxp where m is\n",
    "# the number of sequence, n is the length of the sequence and \n",
    "# p is the vocabulary size \n",
    "\n",
    "def generateTrainingData(filename):\n",
    "\n",
    "    return X, y"
   ]
  },
  {
   "cell_type": "code",
   "execution_count": null,
   "metadata": {},
   "outputs": [],
   "source": [
    "def buildRNN(input_dim, hidden_size,output_dim):\n",
    "    \n",
    "    input = Input(shape=input_dim)\n",
    "    RNN = SimpleRNN(hidden_size)(input)\n",
    "    logits = Dense(output_dim, activation=\"linear\")(RNN)\n",
    "    temp = Lambda(sample)(logits)\n",
    "    softmax = Softmax()(temp)\n",
    "    \n",
    "    print(model.summary())\n",
    "    \n",
    "    return model"
   ]
  },
  {
   "cell_type": "code",
   "execution_count": null,
   "metadata": {},
   "outputs": [],
   "source": [
    "# Task 3:\n",
    "# write a method which predicts a given number of characters \n",
    "# given a certain model and window_size characters to initialize\n",
    "\n",
    "def sample(a, temperature=1.0):\n",
    "    # helper function to sample an index from a probability array\n",
    "    a = np.log(a) / temperature\n",
    "    a = np.exp(a) / np.sum(np.exp(a))\n",
    "    return np.argmax(np.random.multinomial(1, a, 1))\n",
    "\n",
    "def predict(initial_chars, model, sampling_temperature, num_chars):\n",
    "\n",
    "    y_pred = []\n",
    "    for i in range(num_chars):\n",
    "        model.\n",
    "        y_pred.append(model.predict(initial_chars[i:]))\n",
    "        \n",
    "    return y_pred \n",
    "        \n",
    "    "
   ]
  },
  {
   "cell_type": "code",
   "execution_count": null,
   "metadata": {},
   "outputs": [],
   "source": [
    "# Task 4:\n",
    "# write a method to perform training on a specific model\n",
    "\n",
    "def train(model, X, num_epochs, learning_rate, activation, loss):\n",
    "    \n",
    "    "
   ]
  }
 ],
 "metadata": {
  "kernelspec": {
   "display_name": "Python 3",
   "language": "python",
   "name": "python3"
  },
  "language_info": {
   "codemirror_mode": {
    "name": "ipython",
    "version": 3
   },
   "file_extension": ".py",
   "mimetype": "text/x-python",
   "name": "python",
   "nbconvert_exporter": "python",
   "pygments_lexer": "ipython3",
   "version": "3.7.6"
  }
 },
 "nbformat": 4,
 "nbformat_minor": 4
}
